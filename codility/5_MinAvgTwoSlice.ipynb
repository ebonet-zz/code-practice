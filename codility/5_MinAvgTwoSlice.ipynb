{
 "cells": [
  {
   "cell_type": "markdown",
   "metadata": {},
   "source": [
    "# MinAvgTwoSlice\n",
    "\n",
    "A non-empty zero-indexed array A consisting of N integers is given. A pair of integers (P, Q), such that 0 ≤ P < Q < N, is called a slice of array A (notice that the slice contains at least two elements). The average of a slice (P, Q) is the sum of A[P] + A[P + 1] + ... + A[Q] divided by the length of the slice. To be precise, the average equals (A[P] + A[P + 1] + ... + A[Q]) / (Q − P + 1).\n",
    "\n",
    "For example, array A such that:\n",
    "```\n",
    "    A[0] = 4\n",
    "    A[1] = 2\n",
    "    A[2] = 2\n",
    "    A[3] = 5\n",
    "    A[4] = 1\n",
    "    A[5] = 5\n",
    "    A[6] = 8\n",
    "``` \n",
    "   \n",
    "contains the following example slices:\n",
    "\n",
    "* slice (1, 2), whose average is (2 + 2) / 2 = 2;\n",
    "* slice (3, 4), whose average is (5 + 1) / 2 = 3;\n",
    "* slice (1, 4), whose average is (2 + 2 + 5 + 1) / 4 = 2.5.\n",
    "\n",
    "The goal is to find the starting position of a slice whose average is minimal.\n",
    "\n",
    "Write a function:\n",
    "\n",
    "```\n",
    "    def solution(A)\n",
    "```\n",
    "\n",
    "that, given a non-empty zero-indexed array A consisting of N integers, returns the starting position of the slice with the minimal average. If there is more than one slice with a minimal average, you should return the smallest starting position of such a slice.\n",
    "\n",
    "For example, given array A such that:\n",
    "\n",
    "    A[0] = 4\n",
    "    A[1] = 2\n",
    "    A[2] = 2\n",
    "    A[3] = 5\n",
    "    A[4] = 1\n",
    "    A[5] = 5\n",
    "    A[6] = 8\n",
    "    \n",
    "the function should return 1, as explained above.\n",
    "\n",
    "Assume that:\n",
    "\n",
    "* N is an integer within the range [2..100,000];\n",
    "* each element of array A is an integer within the range [−10,000..10,000].\n",
    "\n",
    "Complexity:\n",
    "\n",
    "* expected worst-case time complexity is O(N);\n",
    "* expected worst-case space complexity is O(N), beyond input storage (not counting the storage required for input arguments).\n",
    "* Elements of input arrays can be modified."
   ]
  },
  {
   "cell_type": "code",
   "execution_count": null,
   "metadata": {
    "collapsed": true
   },
   "outputs": [],
   "source": []
  }
 ],
 "metadata": {
  "kernelspec": {
   "display_name": "Python 2",
   "language": "python",
   "name": "python2"
  },
  "language_info": {
   "codemirror_mode": {
    "name": "ipython",
    "version": 2
   },
   "file_extension": ".py",
   "mimetype": "text/x-python",
   "name": "python",
   "nbconvert_exporter": "python",
   "pygments_lexer": "ipython2",
   "version": "2.7.10"
  }
 },
 "nbformat": 4,
 "nbformat_minor": 0
}
