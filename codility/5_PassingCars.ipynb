{
 "cells": [
  {
   "cell_type": "markdown",
   "metadata": {},
   "source": [
    "# Lesson 5 - PassingCars\n",
    "\n",
    "[Source](https://codility.com/programmers/task/passing_cars/)\n",
    "\n",
    "A non-empty zero-indexed array A consisting of N integers is given. The consecutive elements of array A represent consecutive cars on a road.\n",
    "\n",
    "Array A contains only 0s and/or 1s:\n",
    "\n",
    "* 0 represents a car traveling east,\n",
    "* 1 represents a car traveling west.\n",
    "\n",
    "The goal is to count passing cars. We say that a pair of cars (P, Q), where 0 ≤ P < Q < N, is passing when P is traveling to the east and Q is traveling to the west.\n",
    "\n",
    "For example, consider array A such that:\n",
    "\n",
    "```\n",
    "  A[0] = 0\n",
    "  A[1] = 1\n",
    "  A[2] = 0\n",
    "  A[3] = 1\n",
    "  A[4] = 1\n",
    "``` \n",
    " \n",
    "We have five pairs of passing cars: `(0, 1), (0, 3), (0, 4), (2, 3), (2, 4)`.\n",
    "\n",
    "Write a function:\n",
    "\n",
    "```\n",
    "def solution(A)\n",
    "```\n",
    "\n",
    "that, given a non-empty zero-indexed array A of N integers, returns the number of pairs of passing cars.\n",
    "\n",
    "The function should return −1 if the number of pairs of passing cars exceeds 1,000,000,000.\n",
    "\n",
    "For example, given:\n",
    "```\n",
    "  A[0] = 0\n",
    "  A[1] = 1\n",
    "  A[2] = 0\n",
    "  A[3] = 1\n",
    "  A[4] = 1\n",
    "```\n",
    "\n",
    "the function should return 5, as explained above.\n",
    "\n",
    "Assume that:\n",
    "\n",
    "* N is an integer within the range [1..100,000];\n",
    "* each element of array A is an integer that can have one of the following values: 0, 1.\n",
    "\n",
    "Complexity:\n",
    "\n",
    "* expected worst-case time complexity is O(N);\n",
    "* expected worst-case space complexity is O(1), beyond input storage (not counting the storage required for input arguments).\n",
    "* Elements of input arrays can be modified.\n"
   ]
  },
  {
   "cell_type": "code",
   "execution_count": 3,
   "metadata": {
    "collapsed": true
   },
   "outputs": [],
   "source": [
    "def solution(A):\n",
    "    total_cars = len(A)\n",
    "    passings = 0\n",
    "    west_at_right = 0 \n",
    "    \n",
    "    for i in xrange(total_cars-1, -1, -1):\n",
    "        passings += (1-A[i]) * west_at_right\n",
    "        west_at_right += A[i]\n",
    "        \n",
    "        if passings > 1000000000:\n",
    "            return -1\n",
    "        \n",
    "    return passings"
   ]
  },
  {
   "cell_type": "code",
   "execution_count": 4,
   "metadata": {
    "collapsed": false
   },
   "outputs": [
    {
     "name": "stdout",
     "output_type": "stream",
     "text": [
      "5\n0\n4\n0\n"
     ]
    }
   ],
   "source": [
    "print solution([0,1,0,1,1])\n",
    "print solution([1,0,0,0,0])\n",
    "print solution([0,1,1,1,1])\n",
    "print solution([0,0,0,0,0])"
   ]
  },
  {
   "cell_type": "code",
   "execution_count": null,
   "metadata": {},
   "outputs": [],
   "source": [
    ""
   ]
  }
 ],
 "metadata": {
  "kernelspec": {
   "display_name": "Python 2",
   "language": "python",
   "name": "python2"
  },
  "language_info": {
   "codemirror_mode": {
    "name": "ipython",
    "version": 2.0
   },
   "file_extension": ".py",
   "mimetype": "text/x-python",
   "name": "python",
   "nbconvert_exporter": "python",
   "pygments_lexer": "ipython2",
   "version": "2.7.10"
  }
 },
 "nbformat": 4,
 "nbformat_minor": 0
}