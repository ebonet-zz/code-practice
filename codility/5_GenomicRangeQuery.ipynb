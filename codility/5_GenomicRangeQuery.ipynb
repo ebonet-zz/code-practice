{
 "cells": [
  {
   "cell_type": "markdown",
   "metadata": {},
   "source": [
    "# GenomicRangeQuery\n",
    "\n",
    "[Source](https://codility.com/programmers/task/genomic_range_query/)\n",
    "\n",
    "A DNA sequence can be represented as a string consisting of the letters A, C, G and T, which correspond to the types of successive nucleotides in the sequence. Each nucleotide has an impact factor, which is an integer. Nucleotides of types A, C, G and T have impact factors of 1, 2, 3 and 4, respectively. You are going to answer several queries of the form: What is the minimal impact factor of nucleotides contained in a particular part of the given DNA sequence?\n",
    "\n",
    "The DNA sequence is given as a non-empty string S = S[0]S[1]...S[N-1] consisting of N characters. There are M queries, which are given in non-empty arrays P and Q, each consisting of M integers. The K-th query (0 ≤ K < M) requires you to find the minimal impact factor of nucleotides contained in the DNA sequence between positions P[K] and Q[K] (inclusive).\n",
    "\n",
    "For example, consider string S = CAGCCTA and arrays P, Q such that:\n",
    "\n",
    "```\n",
    "    P[0] = 2    Q[0] = 4\n",
    "    P[1] = 5    Q[1] = 5\n",
    "    P[2] = 0    Q[2] = 6\n",
    "```\n",
    "\n",
    "The answers to these `M = 3` queries are as follows:\n",
    "\n",
    "* The part of the DNA between positions 2 and 4 contains nucleotides G and C (twice), whose impact factors are 3 and 2 respectively, so the answer is 2.\n",
    "* The part between positions 5 and 5 contains a single nucleotide T, whose impact factor is 4, so the answer is 4.\n",
    "* The part between positions 0 and 6 (the whole string) contains all nucleotides, in particular nucleotide A whose impact factor is 1, so the answer is 1.\n",
    "\n",
    "Write a function:\n",
    "\n",
    "```\n",
    "    def solution(S, P, Q)\n",
    "```\n",
    "\n",
    "that, given a non-empty zero-indexed string S consisting of N characters and two non-empty zero-indexed arrays P and Q consisting of M integers, returns an array consisting of M integers specifying the consecutive answers to all queries.\n",
    "\n",
    "The sequence should be returned as:\n",
    "\n",
    "* a Results structure (in C), or\n",
    "* a vector of integers (in C++), or\n",
    "* a Results record (in Pascal), or\n",
    "* an array of integers (in any other programming language).\n",
    "\n",
    "For example, given the string S = CAGCCTA and arrays P, Q such that:\n",
    "\n",
    "```\n",
    "    P[0] = 2    Q[0] = 4\n",
    "    P[1] = 5    Q[1] = 5\n",
    "    P[2] = 0    Q[2] = 6\n",
    "```\n",
    "\n",
    "the function should return the values [2, 4, 1], as explained above.\n",
    "\n",
    "Assume that:\n",
    "\n",
    "* N is an integer within the range [1..100,000];\n",
    "* M is an integer within the range [1..50,000];\n",
    "* each element of arrays P, Q is an integer within the range [0..N − 1];\n",
    "* P[K] ≤ Q[K], where 0 ≤ K < M;\n",
    "* string S consists only of upper-case English letters A, C, G, T.\n",
    "\n",
    "*Complexity*:\n",
    "\n",
    "* expected worst-case time complexity is O(N+M);\n",
    "* expected worst-case space complexity is O(N), beyond input storage (not counting the storage required for input arguments).\n",
    "* Elements of input arrays can be modified.\n",
    "\n"
   ]
  },
  {
   "cell_type": "code",
   "execution_count": 129,
   "metadata": {
    "collapsed": false
   },
   "outputs": [],
   "source": [
    "def solution(S, P, Q):\n",
    "    allels = range(4)\n",
    "    \n",
    "    impacts = dict(zip(['A','C','G','T'], allels))\n",
    "    \n",
    "    n_allels = len(S)\n",
    "    \n",
    "    ss = [impacts[s] for s in S]\n",
    "    \n",
    "    \n",
    "    # Build the prefix sums\n",
    "    prefix = [[0]*n_allels, [0]*n_allels, [0]*n_allels, [0]*n_allels]\n",
    "    \n",
    "    prefix[ss[0]][0] = 1\n",
    "    \n",
    "    res = [0] * len(P)\n",
    "    \n",
    "    for i in range(1, n_allels):\n",
    "        for k in allels:\n",
    "            prefix[k][i] = prefix[k][i-1]\n",
    "            \n",
    "        prefix[ss[i]][i] += 1\n",
    "    \n",
    "    for j in range(len(P)):\n",
    "        p,q = P[j],Q[j]\n",
    "        \n",
    "        if p==q:\n",
    "            res[j]=ss[p]\n",
    "        else:\n",
    "            res[j] = next(a for a in allels if (prefix[a][q] - prefix[a][p])>0)\n",
    "        \n",
    "        res[j] = min(ss[p], res[j])+1\n",
    "        \n",
    "        \n",
    "    return res\n",
    "        "
   ]
  },
  {
   "cell_type": "code",
   "execution_count": 130,
   "metadata": {
    "collapsed": false
   },
   "outputs": [
    {
     "data": {
      "text/plain": [
       "[2, 4, 1]"
      ]
     },
     "execution_count": 130,
     "metadata": {},
     "output_type": "execute_result"
    }
   ],
   "source": [
    "solution(\"CAGCCTA\", [2,5,0],[4, 5, 6])\n",
    "# solution(\"AC\", [0], [ 1])"
   ]
  }
 ],
 "metadata": {
  "kernelspec": {
   "display_name": "Python 2",
   "language": "python",
   "name": "python2"
  },
  "language_info": {
   "codemirror_mode": {
    "name": "ipython",
    "version": 2
   },
   "file_extension": ".py",
   "mimetype": "text/x-python",
   "name": "python",
   "nbconvert_exporter": "python",
   "pygments_lexer": "ipython2",
   "version": "2.7.10"
  }
 },
 "nbformat": 4,
 "nbformat_minor": 0
}
